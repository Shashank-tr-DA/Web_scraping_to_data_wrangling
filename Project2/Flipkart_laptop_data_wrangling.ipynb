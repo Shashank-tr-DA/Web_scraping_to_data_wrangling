{
 "cells": [
  {
   "cell_type": "markdown",
   "metadata": {},
   "source": [
    "# Importing Library"
   ]
  },
  {
   "cell_type": "code",
   "execution_count": 1,
   "metadata": {},
   "outputs": [],
   "source": [
    "import pandas as pd"
   ]
  },
  {
   "cell_type": "markdown",
   "metadata": {},
   "source": [
    "# Importing data"
   ]
  },
  {
   "cell_type": "code",
   "execution_count": 2,
   "metadata": {},
   "outputs": [],
   "source": [
    "laptop_data = pd.read_csv('laptop_data_new.csv', encoding = 'latin1', names = ['Brand_name', 'Price', 'rating_and_review_count', 'Ratings'])"
   ]
  },
  {
   "cell_type": "code",
   "execution_count": 3,
   "metadata": {},
   "outputs": [
    {
     "data": {
      "text/html": [
       "<div>\n",
       "<style scoped>\n",
       "    .dataframe tbody tr th:only-of-type {\n",
       "        vertical-align: middle;\n",
       "    }\n",
       "\n",
       "    .dataframe tbody tr th {\n",
       "        vertical-align: top;\n",
       "    }\n",
       "\n",
       "    .dataframe thead th {\n",
       "        text-align: right;\n",
       "    }\n",
       "</style>\n",
       "<table border=\"1\" class=\"dataframe\">\n",
       "  <thead>\n",
       "    <tr style=\"text-align: right;\">\n",
       "      <th></th>\n",
       "      <th>Brand_name</th>\n",
       "      <th>Price</th>\n",
       "      <th>rating_and_review_count</th>\n",
       "      <th>Ratings</th>\n",
       "    </tr>\n",
       "  </thead>\n",
       "  <tbody>\n",
       "    <tr>\n",
       "      <th>0</th>\n",
       "      <td>HP 15s Core i3 10th Gen - (8 GB/1 TB HDD/Windo...</td>\n",
       "      <td>35990</td>\n",
       "      <td>2658 Ratings &amp; 301 Reviews</td>\n",
       "      <td>4.2</td>\n",
       "    </tr>\n",
       "    <tr>\n",
       "      <th>1</th>\n",
       "      <td>HP 14s Core i3 10th Gen - (8 GB/256 GB SSD/Win...</td>\n",
       "      <td>35990</td>\n",
       "      <td>1011 Ratings &amp; 123 Reviews</td>\n",
       "      <td>4.2</td>\n",
       "    </tr>\n",
       "    <tr>\n",
       "      <th>2</th>\n",
       "      <td>HP 15 Ryzen 3 Dual Core 3200U - (4 GB/1 TB HDD...</td>\n",
       "      <td>30000</td>\n",
       "      <td>1740 Ratings &amp; 241 Reviews</td>\n",
       "      <td>4.1</td>\n",
       "    </tr>\n",
       "    <tr>\n",
       "      <th>3</th>\n",
       "      <td>HP 15s Core i3 10th Gen - (4 GB/512 GB SSD/Win...</td>\n",
       "      <td>42189</td>\n",
       "      <td>1151 Ratings &amp; 163 Reviews</td>\n",
       "      <td>4.4</td>\n",
       "    </tr>\n",
       "    <tr>\n",
       "      <th>4</th>\n",
       "      <td>Asus Celeron Dual Core - (4 GB/1 TB HDD/Window...</td>\n",
       "      <td>20990</td>\n",
       "      <td>1532 Ratings &amp; 183 Reviews</td>\n",
       "      <td>4.0</td>\n",
       "    </tr>\n",
       "    <tr>\n",
       "      <th>5</th>\n",
       "      <td>HP 15s Ryzen 3 Dual Core 3250U - (4 GB/1 TB HD...</td>\n",
       "      <td>42127</td>\n",
       "      <td>467 Ratings &amp; 70 Reviews</td>\n",
       "      <td>4.4</td>\n",
       "    </tr>\n",
       "    <tr>\n",
       "      <th>6</th>\n",
       "      <td>HP 15s Ryzen 5 Quad Core 3500U - (8 GB/512 GB ...</td>\n",
       "      <td>48990</td>\n",
       "      <td>1297 Ratings &amp; 285 Reviews</td>\n",
       "      <td>4.5</td>\n",
       "    </tr>\n",
       "    <tr>\n",
       "      <th>7</th>\n",
       "      <td>Lenovo ThinkBook 14 Core i5 10th Gen - (8 GB/2...</td>\n",
       "      <td>46990</td>\n",
       "      <td>20 Ratings &amp; 5 Reviews</td>\n",
       "      <td>4.6</td>\n",
       "    </tr>\n",
       "    <tr>\n",
       "      <th>8</th>\n",
       "      <td>Acer One 14 Pentium Gold - (4 GB/1 TB HDD/Wind...</td>\n",
       "      <td>23990</td>\n",
       "      <td>5173 Ratings &amp; 590 Reviews</td>\n",
       "      <td>4.0</td>\n",
       "    </tr>\n",
       "    <tr>\n",
       "      <th>9</th>\n",
       "      <td>Acer Aspire 7 Ryzen 7 Quad Core 3750H - (8 GB/...</td>\n",
       "      <td>57990</td>\n",
       "      <td>414 Ratings &amp; 50 Reviews</td>\n",
       "      <td>4.3</td>\n",
       "    </tr>\n",
       "  </tbody>\n",
       "</table>\n",
       "</div>"
      ],
      "text/plain": [
       "                                          Brand_name  Price  \\\n",
       "0  HP 15s Core i3 10th Gen - (8 GB/1 TB HDD/Windo...  35990   \n",
       "1  HP 14s Core i3 10th Gen - (8 GB/256 GB SSD/Win...  35990   \n",
       "2  HP 15 Ryzen 3 Dual Core 3200U - (4 GB/1 TB HDD...  30000   \n",
       "3  HP 15s Core i3 10th Gen - (4 GB/512 GB SSD/Win...  42189   \n",
       "4  Asus Celeron Dual Core - (4 GB/1 TB HDD/Window...  20990   \n",
       "5  HP 15s Ryzen 3 Dual Core 3250U - (4 GB/1 TB HD...  42127   \n",
       "6  HP 15s Ryzen 5 Quad Core 3500U - (8 GB/512 GB ...  48990   \n",
       "7  Lenovo ThinkBook 14 Core i5 10th Gen - (8 GB/2...  46990   \n",
       "8  Acer One 14 Pentium Gold - (4 GB/1 TB HDD/Wind...  23990   \n",
       "9  Acer Aspire 7 Ryzen 7 Quad Core 3750H - (8 GB/...  57990   \n",
       "\n",
       "      rating_and_review_count  Ratings  \n",
       "0  2658 Ratings & 301 Reviews      4.2  \n",
       "1  1011 Ratings & 123 Reviews      4.2  \n",
       "2  1740 Ratings & 241 Reviews      4.1  \n",
       "3  1151 Ratings & 163 Reviews      4.4  \n",
       "4  1532 Ratings & 183 Reviews      4.0  \n",
       "5    467 Ratings & 70 Reviews      4.4  \n",
       "6  1297 Ratings & 285 Reviews      4.5  \n",
       "7      20 Ratings & 5 Reviews      4.6  \n",
       "8  5173 Ratings & 590 Reviews      4.0  \n",
       "9    414 Ratings & 50 Reviews      4.3  "
      ]
     },
     "execution_count": 3,
     "metadata": {},
     "output_type": "execute_result"
    }
   ],
   "source": [
    "laptop_data.head(10)"
   ]
  },
  {
   "cell_type": "code",
   "execution_count": 4,
   "metadata": {},
   "outputs": [
    {
     "data": {
      "text/plain": [
       "(504, 4)"
      ]
     },
     "execution_count": 4,
     "metadata": {},
     "output_type": "execute_result"
    }
   ],
   "source": [
    "laptop_data.shape"
   ]
  },
  {
   "cell_type": "markdown",
   "metadata": {},
   "source": [
    "# Data wrangling\n",
    "Breaking raing_and_review_count column in two columns named Rating_count and Review_count"
   ]
  },
  {
   "cell_type": "code",
   "execution_count": 5,
   "metadata": {},
   "outputs": [],
   "source": [
    "laptop_data['Rating_count'] = laptop_data['rating_and_review_count'].str.split().str[0]"
   ]
  },
  {
   "cell_type": "code",
   "execution_count": 6,
   "metadata": {},
   "outputs": [],
   "source": [
    "laptop_data['Review_count'] = laptop_data['rating_and_review_count'].str.split().str[3]"
   ]
  },
  {
   "cell_type": "code",
   "execution_count": 7,
   "metadata": {
    "scrolled": true
   },
   "outputs": [
    {
     "data": {
      "text/html": [
       "<div>\n",
       "<style scoped>\n",
       "    .dataframe tbody tr th:only-of-type {\n",
       "        vertical-align: middle;\n",
       "    }\n",
       "\n",
       "    .dataframe tbody tr th {\n",
       "        vertical-align: top;\n",
       "    }\n",
       "\n",
       "    .dataframe thead th {\n",
       "        text-align: right;\n",
       "    }\n",
       "</style>\n",
       "<table border=\"1\" class=\"dataframe\">\n",
       "  <thead>\n",
       "    <tr style=\"text-align: right;\">\n",
       "      <th></th>\n",
       "      <th>Brand_name</th>\n",
       "      <th>Price</th>\n",
       "      <th>rating_and_review_count</th>\n",
       "      <th>Ratings</th>\n",
       "      <th>Rating_count</th>\n",
       "      <th>Review_count</th>\n",
       "    </tr>\n",
       "  </thead>\n",
       "  <tbody>\n",
       "    <tr>\n",
       "      <th>0</th>\n",
       "      <td>HP 15s Core i3 10th Gen - (8 GB/1 TB HDD/Windo...</td>\n",
       "      <td>35990</td>\n",
       "      <td>2658 Ratings &amp; 301 Reviews</td>\n",
       "      <td>4.2</td>\n",
       "      <td>2658</td>\n",
       "      <td>301</td>\n",
       "    </tr>\n",
       "    <tr>\n",
       "      <th>1</th>\n",
       "      <td>HP 14s Core i3 10th Gen - (8 GB/256 GB SSD/Win...</td>\n",
       "      <td>35990</td>\n",
       "      <td>1011 Ratings &amp; 123 Reviews</td>\n",
       "      <td>4.2</td>\n",
       "      <td>1011</td>\n",
       "      <td>123</td>\n",
       "    </tr>\n",
       "    <tr>\n",
       "      <th>2</th>\n",
       "      <td>HP 15 Ryzen 3 Dual Core 3200U - (4 GB/1 TB HDD...</td>\n",
       "      <td>30000</td>\n",
       "      <td>1740 Ratings &amp; 241 Reviews</td>\n",
       "      <td>4.1</td>\n",
       "      <td>1740</td>\n",
       "      <td>241</td>\n",
       "    </tr>\n",
       "    <tr>\n",
       "      <th>3</th>\n",
       "      <td>HP 15s Core i3 10th Gen - (4 GB/512 GB SSD/Win...</td>\n",
       "      <td>42189</td>\n",
       "      <td>1151 Ratings &amp; 163 Reviews</td>\n",
       "      <td>4.4</td>\n",
       "      <td>1151</td>\n",
       "      <td>163</td>\n",
       "    </tr>\n",
       "    <tr>\n",
       "      <th>4</th>\n",
       "      <td>Asus Celeron Dual Core - (4 GB/1 TB HDD/Window...</td>\n",
       "      <td>20990</td>\n",
       "      <td>1532 Ratings &amp; 183 Reviews</td>\n",
       "      <td>4.0</td>\n",
       "      <td>1532</td>\n",
       "      <td>183</td>\n",
       "    </tr>\n",
       "    <tr>\n",
       "      <th>5</th>\n",
       "      <td>HP 15s Ryzen 3 Dual Core 3250U - (4 GB/1 TB HD...</td>\n",
       "      <td>42127</td>\n",
       "      <td>467 Ratings &amp; 70 Reviews</td>\n",
       "      <td>4.4</td>\n",
       "      <td>467</td>\n",
       "      <td>70</td>\n",
       "    </tr>\n",
       "    <tr>\n",
       "      <th>6</th>\n",
       "      <td>HP 15s Ryzen 5 Quad Core 3500U - (8 GB/512 GB ...</td>\n",
       "      <td>48990</td>\n",
       "      <td>1297 Ratings &amp; 285 Reviews</td>\n",
       "      <td>4.5</td>\n",
       "      <td>1297</td>\n",
       "      <td>285</td>\n",
       "    </tr>\n",
       "    <tr>\n",
       "      <th>7</th>\n",
       "      <td>Lenovo ThinkBook 14 Core i5 10th Gen - (8 GB/2...</td>\n",
       "      <td>46990</td>\n",
       "      <td>20 Ratings &amp; 5 Reviews</td>\n",
       "      <td>4.6</td>\n",
       "      <td>20</td>\n",
       "      <td>5</td>\n",
       "    </tr>\n",
       "    <tr>\n",
       "      <th>8</th>\n",
       "      <td>Acer One 14 Pentium Gold - (4 GB/1 TB HDD/Wind...</td>\n",
       "      <td>23990</td>\n",
       "      <td>5173 Ratings &amp; 590 Reviews</td>\n",
       "      <td>4.0</td>\n",
       "      <td>5173</td>\n",
       "      <td>590</td>\n",
       "    </tr>\n",
       "    <tr>\n",
       "      <th>9</th>\n",
       "      <td>Acer Aspire 7 Ryzen 7 Quad Core 3750H - (8 GB/...</td>\n",
       "      <td>57990</td>\n",
       "      <td>414 Ratings &amp; 50 Reviews</td>\n",
       "      <td>4.3</td>\n",
       "      <td>414</td>\n",
       "      <td>50</td>\n",
       "    </tr>\n",
       "  </tbody>\n",
       "</table>\n",
       "</div>"
      ],
      "text/plain": [
       "                                          Brand_name  Price  \\\n",
       "0  HP 15s Core i3 10th Gen - (8 GB/1 TB HDD/Windo...  35990   \n",
       "1  HP 14s Core i3 10th Gen - (8 GB/256 GB SSD/Win...  35990   \n",
       "2  HP 15 Ryzen 3 Dual Core 3200U - (4 GB/1 TB HDD...  30000   \n",
       "3  HP 15s Core i3 10th Gen - (4 GB/512 GB SSD/Win...  42189   \n",
       "4  Asus Celeron Dual Core - (4 GB/1 TB HDD/Window...  20990   \n",
       "5  HP 15s Ryzen 3 Dual Core 3250U - (4 GB/1 TB HD...  42127   \n",
       "6  HP 15s Ryzen 5 Quad Core 3500U - (8 GB/512 GB ...  48990   \n",
       "7  Lenovo ThinkBook 14 Core i5 10th Gen - (8 GB/2...  46990   \n",
       "8  Acer One 14 Pentium Gold - (4 GB/1 TB HDD/Wind...  23990   \n",
       "9  Acer Aspire 7 Ryzen 7 Quad Core 3750H - (8 GB/...  57990   \n",
       "\n",
       "      rating_and_review_count  Ratings Rating_count Review_count  \n",
       "0  2658 Ratings & 301 Reviews      4.2         2658          301  \n",
       "1  1011 Ratings & 123 Reviews      4.2         1011          123  \n",
       "2  1740 Ratings & 241 Reviews      4.1         1740          241  \n",
       "3  1151 Ratings & 163 Reviews      4.4         1151          163  \n",
       "4  1532 Ratings & 183 Reviews      4.0         1532          183  \n",
       "5    467 Ratings & 70 Reviews      4.4          467           70  \n",
       "6  1297 Ratings & 285 Reviews      4.5         1297          285  \n",
       "7      20 Ratings & 5 Reviews      4.6           20            5  \n",
       "8  5173 Ratings & 590 Reviews      4.0         5173          590  \n",
       "9    414 Ratings & 50 Reviews      4.3          414           50  "
      ]
     },
     "execution_count": 7,
     "metadata": {},
     "output_type": "execute_result"
    }
   ],
   "source": [
    "laptop_data.head(10)"
   ]
  },
  {
   "cell_type": "markdown",
   "metadata": {},
   "source": [
    "Drop the unnecessary column"
   ]
  },
  {
   "cell_type": "code",
   "execution_count": 8,
   "metadata": {},
   "outputs": [],
   "source": [
    "laptop_data.drop(columns = ['rating_and_review_count'], inplace = True)"
   ]
  },
  {
   "cell_type": "code",
   "execution_count": 9,
   "metadata": {
    "scrolled": true
   },
   "outputs": [
    {
     "data": {
      "text/html": [
       "<div>\n",
       "<style scoped>\n",
       "    .dataframe tbody tr th:only-of-type {\n",
       "        vertical-align: middle;\n",
       "    }\n",
       "\n",
       "    .dataframe tbody tr th {\n",
       "        vertical-align: top;\n",
       "    }\n",
       "\n",
       "    .dataframe thead th {\n",
       "        text-align: right;\n",
       "    }\n",
       "</style>\n",
       "<table border=\"1\" class=\"dataframe\">\n",
       "  <thead>\n",
       "    <tr style=\"text-align: right;\">\n",
       "      <th></th>\n",
       "      <th>Brand_name</th>\n",
       "      <th>Price</th>\n",
       "      <th>Ratings</th>\n",
       "      <th>Rating_count</th>\n",
       "      <th>Review_count</th>\n",
       "    </tr>\n",
       "  </thead>\n",
       "  <tbody>\n",
       "    <tr>\n",
       "      <th>0</th>\n",
       "      <td>HP 15s Core i3 10th Gen - (8 GB/1 TB HDD/Windo...</td>\n",
       "      <td>35990</td>\n",
       "      <td>4.2</td>\n",
       "      <td>2658</td>\n",
       "      <td>301</td>\n",
       "    </tr>\n",
       "    <tr>\n",
       "      <th>1</th>\n",
       "      <td>HP 14s Core i3 10th Gen - (8 GB/256 GB SSD/Win...</td>\n",
       "      <td>35990</td>\n",
       "      <td>4.2</td>\n",
       "      <td>1011</td>\n",
       "      <td>123</td>\n",
       "    </tr>\n",
       "    <tr>\n",
       "      <th>2</th>\n",
       "      <td>HP 15 Ryzen 3 Dual Core 3200U - (4 GB/1 TB HDD...</td>\n",
       "      <td>30000</td>\n",
       "      <td>4.1</td>\n",
       "      <td>1740</td>\n",
       "      <td>241</td>\n",
       "    </tr>\n",
       "    <tr>\n",
       "      <th>3</th>\n",
       "      <td>HP 15s Core i3 10th Gen - (4 GB/512 GB SSD/Win...</td>\n",
       "      <td>42189</td>\n",
       "      <td>4.4</td>\n",
       "      <td>1151</td>\n",
       "      <td>163</td>\n",
       "    </tr>\n",
       "    <tr>\n",
       "      <th>4</th>\n",
       "      <td>Asus Celeron Dual Core - (4 GB/1 TB HDD/Window...</td>\n",
       "      <td>20990</td>\n",
       "      <td>4.0</td>\n",
       "      <td>1532</td>\n",
       "      <td>183</td>\n",
       "    </tr>\n",
       "  </tbody>\n",
       "</table>\n",
       "</div>"
      ],
      "text/plain": [
       "                                          Brand_name  Price  Ratings  \\\n",
       "0  HP 15s Core i3 10th Gen - (8 GB/1 TB HDD/Windo...  35990      4.2   \n",
       "1  HP 14s Core i3 10th Gen - (8 GB/256 GB SSD/Win...  35990      4.2   \n",
       "2  HP 15 Ryzen 3 Dual Core 3200U - (4 GB/1 TB HDD...  30000      4.1   \n",
       "3  HP 15s Core i3 10th Gen - (4 GB/512 GB SSD/Win...  42189      4.4   \n",
       "4  Asus Celeron Dual Core - (4 GB/1 TB HDD/Window...  20990      4.0   \n",
       "\n",
       "  Rating_count Review_count  \n",
       "0         2658          301  \n",
       "1         1011          123  \n",
       "2         1740          241  \n",
       "3         1151          163  \n",
       "4         1532          183  "
      ]
     },
     "execution_count": 9,
     "metadata": {},
     "output_type": "execute_result"
    }
   ],
   "source": [
    "laptop_data.head()"
   ]
  },
  {
   "cell_type": "markdown",
   "metadata": {},
   "source": [
    "Checking for null values"
   ]
  },
  {
   "cell_type": "code",
   "execution_count": 10,
   "metadata": {
    "scrolled": true
   },
   "outputs": [
    {
     "data": {
      "text/plain": [
       "Brand_name        0\n",
       "Price             0\n",
       "Ratings         115\n",
       "Rating_count    115\n",
       "Review_count    115\n",
       "dtype: int64"
      ]
     },
     "execution_count": 10,
     "metadata": {},
     "output_type": "execute_result"
    }
   ],
   "source": [
    "laptop_data.isnull().sum()"
   ]
  },
  {
   "cell_type": "markdown",
   "metadata": {},
   "source": [
    "Drop the null values"
   ]
  },
  {
   "cell_type": "code",
   "execution_count": 11,
   "metadata": {},
   "outputs": [],
   "source": [
    "laptop_data.dropna(inplace = True)"
   ]
  },
  {
   "cell_type": "code",
   "execution_count": 12,
   "metadata": {},
   "outputs": [
    {
     "data": {
      "text/plain": [
       "Brand_name      0\n",
       "Price           0\n",
       "Ratings         0\n",
       "Rating_count    0\n",
       "Review_count    0\n",
       "dtype: int64"
      ]
     },
     "execution_count": 12,
     "metadata": {},
     "output_type": "execute_result"
    }
   ],
   "source": [
    "laptop_data.isnull().sum()"
   ]
  },
  {
   "cell_type": "code",
   "execution_count": 13,
   "metadata": {},
   "outputs": [
    {
     "data": {
      "text/plain": [
       "(389, 5)"
      ]
     },
     "execution_count": 13,
     "metadata": {},
     "output_type": "execute_result"
    }
   ],
   "source": [
    "laptop_data.shape"
   ]
  }
 ],
 "metadata": {
  "kernelspec": {
   "display_name": "Python 3",
   "language": "python",
   "name": "python3"
  },
  "language_info": {
   "codemirror_mode": {
    "name": "ipython",
    "version": 3
   },
   "file_extension": ".py",
   "mimetype": "text/x-python",
   "name": "python",
   "nbconvert_exporter": "python",
   "pygments_lexer": "ipython3",
   "version": "3.8.3"
  }
 },
 "nbformat": 4,
 "nbformat_minor": 4
}
