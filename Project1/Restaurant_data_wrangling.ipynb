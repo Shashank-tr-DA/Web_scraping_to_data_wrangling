{
 "cells": [
  {
   "cell_type": "markdown",
   "metadata": {},
   "source": [
    "# Importing libraries"
   ]
  },
  {
   "cell_type": "code",
   "execution_count": 1,
   "metadata": {},
   "outputs": [],
   "source": [
    "import pandas as pd"
   ]
  },
  {
   "cell_type": "code",
   "execution_count": 2,
   "metadata": {},
   "outputs": [],
   "source": [
    "restaurant_data = pd.read_csv('restaurant_review_data.csv', encoding = 'latin1', names = ['Restaurant_name', 'Reviews_and_trustscore', 'Address', 'more_info'])"
   ]
  },
  {
   "cell_type": "code",
   "execution_count": 3,
   "metadata": {},
   "outputs": [
    {
     "data": {
      "text/html": [
       "<div>\n",
       "<style scoped>\n",
       "    .dataframe tbody tr th:only-of-type {\n",
       "        vertical-align: middle;\n",
       "    }\n",
       "\n",
       "    .dataframe tbody tr th {\n",
       "        vertical-align: top;\n",
       "    }\n",
       "\n",
       "    .dataframe thead th {\n",
       "        text-align: right;\n",
       "    }\n",
       "</style>\n",
       "<table border=\"1\" class=\"dataframe\">\n",
       "  <thead>\n",
       "    <tr style=\"text-align: right;\">\n",
       "      <th></th>\n",
       "      <th>Restaurant_name</th>\n",
       "      <th>Reviews_and_trustscore</th>\n",
       "      <th>Address</th>\n",
       "      <th>more_info</th>\n",
       "    </tr>\n",
       "  </thead>\n",
       "  <tbody>\n",
       "    <tr>\n",
       "      <th>0</th>\n",
       "      <td>Cater Nation</td>\n",
       "      <td>533 reviews · TrustScore 4.9</td>\n",
       "      <td>23113 Midlothian</td>\n",
       "      <td>/review/caternation.com</td>\n",
       "    </tr>\n",
       "    <tr>\n",
       "      <th>1</th>\n",
       "      <td>Whidbey Island Seafood Company</td>\n",
       "      <td>300 reviews · TrustScore 4.9</td>\n",
       "      <td>98249 Freeland</td>\n",
       "      <td>/review/whidbeyseafoods.com</td>\n",
       "    </tr>\n",
       "    <tr>\n",
       "      <th>2</th>\n",
       "      <td>ezCater</td>\n",
       "      <td>13378 reviews · TrustScore 4.8</td>\n",
       "      <td>02109 Boston</td>\n",
       "      <td>/review/www.ezcater.com</td>\n",
       "    </tr>\n",
       "    <tr>\n",
       "      <th>3</th>\n",
       "      <td>SimplyOz.com</td>\n",
       "      <td>1390 reviews · TrustScore 4.8</td>\n",
       "      <td>45040 Cincinnati Ohio</td>\n",
       "      <td>/review/simplyoz.com</td>\n",
       "    </tr>\n",
       "    <tr>\n",
       "      <th>4</th>\n",
       "      <td>Balkanfresh</td>\n",
       "      <td>74 reviews · TrustScore 4.8</td>\n",
       "      <td>NaN</td>\n",
       "      <td>/review/www.balkanfresh.com</td>\n",
       "    </tr>\n",
       "  </tbody>\n",
       "</table>\n",
       "</div>"
      ],
      "text/plain": [
       "                  Restaurant_name          Reviews_and_trustscore  \\\n",
       "0                    Cater Nation    533 reviews · TrustScore 4.9   \n",
       "1  Whidbey Island Seafood Company    300 reviews · TrustScore 4.9   \n",
       "2                         ezCater  13378 reviews · TrustScore 4.8   \n",
       "3                    SimplyOz.com   1390 reviews · TrustScore 4.8   \n",
       "4                     Balkanfresh     74 reviews · TrustScore 4.8   \n",
       "\n",
       "                 Address                    more_info  \n",
       "0       23113 Midlothian      /review/caternation.com  \n",
       "1         98249 Freeland  /review/whidbeyseafoods.com  \n",
       "2           02109 Boston      /review/www.ezcater.com  \n",
       "3  45040 Cincinnati Ohio         /review/simplyoz.com  \n",
       "4                    NaN  /review/www.balkanfresh.com  "
      ]
     },
     "execution_count": 3,
     "metadata": {},
     "output_type": "execute_result"
    }
   ],
   "source": [
    "restaurant_data.head()"
   ]
  },
  {
   "cell_type": "code",
   "execution_count": 4,
   "metadata": {
    "scrolled": true
   },
   "outputs": [
    {
     "data": {
      "text/html": [
       "<div>\n",
       "<style scoped>\n",
       "    .dataframe tbody tr th:only-of-type {\n",
       "        vertical-align: middle;\n",
       "    }\n",
       "\n",
       "    .dataframe tbody tr th {\n",
       "        vertical-align: top;\n",
       "    }\n",
       "\n",
       "    .dataframe thead th {\n",
       "        text-align: right;\n",
       "    }\n",
       "</style>\n",
       "<table border=\"1\" class=\"dataframe\">\n",
       "  <thead>\n",
       "    <tr style=\"text-align: right;\">\n",
       "      <th></th>\n",
       "      <th>Restaurant_name</th>\n",
       "      <th>Reviews_and_trustscore</th>\n",
       "      <th>Address</th>\n",
       "      <th>more_info</th>\n",
       "    </tr>\n",
       "  </thead>\n",
       "  <tbody>\n",
       "    <tr>\n",
       "      <th>139</th>\n",
       "      <td>P.F. Chang's</td>\n",
       "      <td>188 reviews · TrustScore 1.8</td>\n",
       "      <td>NaN</td>\n",
       "      <td>/review/www.pfchangs.com</td>\n",
       "    </tr>\n",
       "    <tr>\n",
       "      <th>140</th>\n",
       "      <td>ReStockIt.com</td>\n",
       "      <td>24 reviews · TrustScore 1.7</td>\n",
       "      <td>NaN</td>\n",
       "      <td>/review/www.restockit.com</td>\n",
       "    </tr>\n",
       "    <tr>\n",
       "      <th>141</th>\n",
       "      <td>Yelp</td>\n",
       "      <td>2227 reviews · TrustScore 1.6</td>\n",
       "      <td>NaN</td>\n",
       "      <td>/review/www.yelp.com</td>\n",
       "    </tr>\n",
       "    <tr>\n",
       "      <th>142</th>\n",
       "      <td>Nutrisystem</td>\n",
       "      <td>1916 reviews · TrustScore 1.6</td>\n",
       "      <td>NaN</td>\n",
       "      <td>/review/nutrisystem.com</td>\n",
       "    </tr>\n",
       "    <tr>\n",
       "      <th>143</th>\n",
       "      <td>delivery.com</td>\n",
       "      <td>1759 reviews · TrustScore 1.5</td>\n",
       "      <td>NaN</td>\n",
       "      <td>/review/delivery.com</td>\n",
       "    </tr>\n",
       "  </tbody>\n",
       "</table>\n",
       "</div>"
      ],
      "text/plain": [
       "    Restaurant_name         Reviews_and_trustscore Address  \\\n",
       "139    P.F. Chang's   188 reviews · TrustScore 1.8     NaN   \n",
       "140   ReStockIt.com    24 reviews · TrustScore 1.7     NaN   \n",
       "141            Yelp  2227 reviews · TrustScore 1.6     NaN   \n",
       "142     Nutrisystem  1916 reviews · TrustScore 1.6     NaN   \n",
       "143    delivery.com  1759 reviews · TrustScore 1.5     NaN   \n",
       "\n",
       "                     more_info  \n",
       "139   /review/www.pfchangs.com  \n",
       "140  /review/www.restockit.com  \n",
       "141       /review/www.yelp.com  \n",
       "142    /review/nutrisystem.com  \n",
       "143       /review/delivery.com  "
      ]
     },
     "execution_count": 4,
     "metadata": {},
     "output_type": "execute_result"
    }
   ],
   "source": [
    "restaurant_data.tail()"
   ]
  },
  {
   "cell_type": "markdown",
   "metadata": {},
   "source": [
    "# Data wrangling process"
   ]
  },
  {
   "cell_type": "markdown",
   "metadata": {},
   "source": [
    "So we have to first break down our column names Reviews_and_trustscore into two columns so we get reviews and trustscore seperately"
   ]
  },
  {
   "cell_type": "code",
   "execution_count": 5,
   "metadata": {},
   "outputs": [],
   "source": [
    "restaurant_data['Reviews'] = restaurant_data.Reviews_and_trustscore.str.split().str[0]"
   ]
  },
  {
   "cell_type": "code",
   "execution_count": 6,
   "metadata": {},
   "outputs": [
    {
     "data": {
      "text/html": [
       "<div>\n",
       "<style scoped>\n",
       "    .dataframe tbody tr th:only-of-type {\n",
       "        vertical-align: middle;\n",
       "    }\n",
       "\n",
       "    .dataframe tbody tr th {\n",
       "        vertical-align: top;\n",
       "    }\n",
       "\n",
       "    .dataframe thead th {\n",
       "        text-align: right;\n",
       "    }\n",
       "</style>\n",
       "<table border=\"1\" class=\"dataframe\">\n",
       "  <thead>\n",
       "    <tr style=\"text-align: right;\">\n",
       "      <th></th>\n",
       "      <th>Restaurant_name</th>\n",
       "      <th>Reviews_and_trustscore</th>\n",
       "      <th>Address</th>\n",
       "      <th>more_info</th>\n",
       "      <th>Reviews</th>\n",
       "    </tr>\n",
       "  </thead>\n",
       "  <tbody>\n",
       "    <tr>\n",
       "      <th>0</th>\n",
       "      <td>Cater Nation</td>\n",
       "      <td>533 reviews · TrustScore 4.9</td>\n",
       "      <td>23113 Midlothian</td>\n",
       "      <td>/review/caternation.com</td>\n",
       "      <td>533</td>\n",
       "    </tr>\n",
       "    <tr>\n",
       "      <th>1</th>\n",
       "      <td>Whidbey Island Seafood Company</td>\n",
       "      <td>300 reviews · TrustScore 4.9</td>\n",
       "      <td>98249 Freeland</td>\n",
       "      <td>/review/whidbeyseafoods.com</td>\n",
       "      <td>300</td>\n",
       "    </tr>\n",
       "    <tr>\n",
       "      <th>2</th>\n",
       "      <td>ezCater</td>\n",
       "      <td>13378 reviews · TrustScore 4.8</td>\n",
       "      <td>02109 Boston</td>\n",
       "      <td>/review/www.ezcater.com</td>\n",
       "      <td>13378</td>\n",
       "    </tr>\n",
       "    <tr>\n",
       "      <th>3</th>\n",
       "      <td>SimplyOz.com</td>\n",
       "      <td>1390 reviews · TrustScore 4.8</td>\n",
       "      <td>45040 Cincinnati Ohio</td>\n",
       "      <td>/review/simplyoz.com</td>\n",
       "      <td>1390</td>\n",
       "    </tr>\n",
       "    <tr>\n",
       "      <th>4</th>\n",
       "      <td>Balkanfresh</td>\n",
       "      <td>74 reviews · TrustScore 4.8</td>\n",
       "      <td>NaN</td>\n",
       "      <td>/review/www.balkanfresh.com</td>\n",
       "      <td>74</td>\n",
       "    </tr>\n",
       "  </tbody>\n",
       "</table>\n",
       "</div>"
      ],
      "text/plain": [
       "                  Restaurant_name          Reviews_and_trustscore  \\\n",
       "0                    Cater Nation    533 reviews · TrustScore 4.9   \n",
       "1  Whidbey Island Seafood Company    300 reviews · TrustScore 4.9   \n",
       "2                         ezCater  13378 reviews · TrustScore 4.8   \n",
       "3                    SimplyOz.com   1390 reviews · TrustScore 4.8   \n",
       "4                     Balkanfresh     74 reviews · TrustScore 4.8   \n",
       "\n",
       "                 Address                    more_info Reviews  \n",
       "0       23113 Midlothian      /review/caternation.com     533  \n",
       "1         98249 Freeland  /review/whidbeyseafoods.com     300  \n",
       "2           02109 Boston      /review/www.ezcater.com   13378  \n",
       "3  45040 Cincinnati Ohio         /review/simplyoz.com    1390  \n",
       "4                    NaN  /review/www.balkanfresh.com      74  "
      ]
     },
     "execution_count": 6,
     "metadata": {},
     "output_type": "execute_result"
    }
   ],
   "source": [
    "restaurant_data.head()"
   ]
  },
  {
   "cell_type": "code",
   "execution_count": 7,
   "metadata": {},
   "outputs": [],
   "source": [
    "restaurant_data['Trustscore'] = restaurant_data.Reviews_and_trustscore.str.split().str[-1]"
   ]
  },
  {
   "cell_type": "code",
   "execution_count": 8,
   "metadata": {
    "scrolled": true
   },
   "outputs": [
    {
     "data": {
      "text/html": [
       "<div>\n",
       "<style scoped>\n",
       "    .dataframe tbody tr th:only-of-type {\n",
       "        vertical-align: middle;\n",
       "    }\n",
       "\n",
       "    .dataframe tbody tr th {\n",
       "        vertical-align: top;\n",
       "    }\n",
       "\n",
       "    .dataframe thead th {\n",
       "        text-align: right;\n",
       "    }\n",
       "</style>\n",
       "<table border=\"1\" class=\"dataframe\">\n",
       "  <thead>\n",
       "    <tr style=\"text-align: right;\">\n",
       "      <th></th>\n",
       "      <th>Restaurant_name</th>\n",
       "      <th>Reviews_and_trustscore</th>\n",
       "      <th>Address</th>\n",
       "      <th>more_info</th>\n",
       "      <th>Reviews</th>\n",
       "      <th>Trustscore</th>\n",
       "    </tr>\n",
       "  </thead>\n",
       "  <tbody>\n",
       "    <tr>\n",
       "      <th>0</th>\n",
       "      <td>Cater Nation</td>\n",
       "      <td>533 reviews · TrustScore 4.9</td>\n",
       "      <td>23113 Midlothian</td>\n",
       "      <td>/review/caternation.com</td>\n",
       "      <td>533</td>\n",
       "      <td>4.9</td>\n",
       "    </tr>\n",
       "    <tr>\n",
       "      <th>1</th>\n",
       "      <td>Whidbey Island Seafood Company</td>\n",
       "      <td>300 reviews · TrustScore 4.9</td>\n",
       "      <td>98249 Freeland</td>\n",
       "      <td>/review/whidbeyseafoods.com</td>\n",
       "      <td>300</td>\n",
       "      <td>4.9</td>\n",
       "    </tr>\n",
       "    <tr>\n",
       "      <th>2</th>\n",
       "      <td>ezCater</td>\n",
       "      <td>13378 reviews · TrustScore 4.8</td>\n",
       "      <td>02109 Boston</td>\n",
       "      <td>/review/www.ezcater.com</td>\n",
       "      <td>13378</td>\n",
       "      <td>4.8</td>\n",
       "    </tr>\n",
       "    <tr>\n",
       "      <th>3</th>\n",
       "      <td>SimplyOz.com</td>\n",
       "      <td>1390 reviews · TrustScore 4.8</td>\n",
       "      <td>45040 Cincinnati Ohio</td>\n",
       "      <td>/review/simplyoz.com</td>\n",
       "      <td>1390</td>\n",
       "      <td>4.8</td>\n",
       "    </tr>\n",
       "    <tr>\n",
       "      <th>4</th>\n",
       "      <td>Balkanfresh</td>\n",
       "      <td>74 reviews · TrustScore 4.8</td>\n",
       "      <td>NaN</td>\n",
       "      <td>/review/www.balkanfresh.com</td>\n",
       "      <td>74</td>\n",
       "      <td>4.8</td>\n",
       "    </tr>\n",
       "  </tbody>\n",
       "</table>\n",
       "</div>"
      ],
      "text/plain": [
       "                  Restaurant_name          Reviews_and_trustscore  \\\n",
       "0                    Cater Nation    533 reviews · TrustScore 4.9   \n",
       "1  Whidbey Island Seafood Company    300 reviews · TrustScore 4.9   \n",
       "2                         ezCater  13378 reviews · TrustScore 4.8   \n",
       "3                    SimplyOz.com   1390 reviews · TrustScore 4.8   \n",
       "4                     Balkanfresh     74 reviews · TrustScore 4.8   \n",
       "\n",
       "                 Address                    more_info Reviews Trustscore  \n",
       "0       23113 Midlothian      /review/caternation.com     533        4.9  \n",
       "1         98249 Freeland  /review/whidbeyseafoods.com     300        4.9  \n",
       "2           02109 Boston      /review/www.ezcater.com   13378        4.8  \n",
       "3  45040 Cincinnati Ohio         /review/simplyoz.com    1390        4.8  \n",
       "4                    NaN  /review/www.balkanfresh.com      74        4.8  "
      ]
     },
     "execution_count": 8,
     "metadata": {},
     "output_type": "execute_result"
    }
   ],
   "source": [
    "restaurant_data.head()"
   ]
  },
  {
   "cell_type": "code",
   "execution_count": 9,
   "metadata": {},
   "outputs": [
    {
     "data": {
      "text/plain": [
       "(144,)"
      ]
     },
     "execution_count": 9,
     "metadata": {},
     "output_type": "execute_result"
    }
   ],
   "source": [
    "restaurant_data['Reviews'].shape"
   ]
  },
  {
   "cell_type": "markdown",
   "metadata": {},
   "source": [
    "Now we successfully get the two seperate columns for Reviews and Trustscore which helps in our analysis process.\n",
    "Now we also have to break down the address column into two columns named Zip_code and City"
   ]
  },
  {
   "cell_type": "code",
   "execution_count": 10,
   "metadata": {},
   "outputs": [],
   "source": [
    "restaurant_data['Zip_code'] = restaurant_data.Address.str.split().str[0]"
   ]
  },
  {
   "cell_type": "code",
   "execution_count": 11,
   "metadata": {},
   "outputs": [],
   "source": [
    "restaurant_data['City'] = restaurant_data.Address.str.split(n = 1).str[-1]"
   ]
  },
  {
   "cell_type": "code",
   "execution_count": 12,
   "metadata": {},
   "outputs": [
    {
     "data": {
      "text/html": [
       "<div>\n",
       "<style scoped>\n",
       "    .dataframe tbody tr th:only-of-type {\n",
       "        vertical-align: middle;\n",
       "    }\n",
       "\n",
       "    .dataframe tbody tr th {\n",
       "        vertical-align: top;\n",
       "    }\n",
       "\n",
       "    .dataframe thead th {\n",
       "        text-align: right;\n",
       "    }\n",
       "</style>\n",
       "<table border=\"1\" class=\"dataframe\">\n",
       "  <thead>\n",
       "    <tr style=\"text-align: right;\">\n",
       "      <th></th>\n",
       "      <th>Restaurant_name</th>\n",
       "      <th>Reviews_and_trustscore</th>\n",
       "      <th>Address</th>\n",
       "      <th>more_info</th>\n",
       "      <th>Reviews</th>\n",
       "      <th>Trustscore</th>\n",
       "      <th>Zip_code</th>\n",
       "      <th>City</th>\n",
       "    </tr>\n",
       "  </thead>\n",
       "  <tbody>\n",
       "    <tr>\n",
       "      <th>0</th>\n",
       "      <td>Cater Nation</td>\n",
       "      <td>533 reviews · TrustScore 4.9</td>\n",
       "      <td>23113 Midlothian</td>\n",
       "      <td>/review/caternation.com</td>\n",
       "      <td>533</td>\n",
       "      <td>4.9</td>\n",
       "      <td>23113</td>\n",
       "      <td>Midlothian</td>\n",
       "    </tr>\n",
       "    <tr>\n",
       "      <th>1</th>\n",
       "      <td>Whidbey Island Seafood Company</td>\n",
       "      <td>300 reviews · TrustScore 4.9</td>\n",
       "      <td>98249 Freeland</td>\n",
       "      <td>/review/whidbeyseafoods.com</td>\n",
       "      <td>300</td>\n",
       "      <td>4.9</td>\n",
       "      <td>98249</td>\n",
       "      <td>Freeland</td>\n",
       "    </tr>\n",
       "    <tr>\n",
       "      <th>2</th>\n",
       "      <td>ezCater</td>\n",
       "      <td>13378 reviews · TrustScore 4.8</td>\n",
       "      <td>02109 Boston</td>\n",
       "      <td>/review/www.ezcater.com</td>\n",
       "      <td>13378</td>\n",
       "      <td>4.8</td>\n",
       "      <td>02109</td>\n",
       "      <td>Boston</td>\n",
       "    </tr>\n",
       "    <tr>\n",
       "      <th>3</th>\n",
       "      <td>SimplyOz.com</td>\n",
       "      <td>1390 reviews · TrustScore 4.8</td>\n",
       "      <td>45040 Cincinnati Ohio</td>\n",
       "      <td>/review/simplyoz.com</td>\n",
       "      <td>1390</td>\n",
       "      <td>4.8</td>\n",
       "      <td>45040</td>\n",
       "      <td>Cincinnati Ohio</td>\n",
       "    </tr>\n",
       "    <tr>\n",
       "      <th>4</th>\n",
       "      <td>Balkanfresh</td>\n",
       "      <td>74 reviews · TrustScore 4.8</td>\n",
       "      <td>NaN</td>\n",
       "      <td>/review/www.balkanfresh.com</td>\n",
       "      <td>74</td>\n",
       "      <td>4.8</td>\n",
       "      <td>NaN</td>\n",
       "      <td>NaN</td>\n",
       "    </tr>\n",
       "    <tr>\n",
       "      <th>5</th>\n",
       "      <td>Burgers' Smokehouse</td>\n",
       "      <td>14333 reviews · TrustScore 4.7</td>\n",
       "      <td>65018 California</td>\n",
       "      <td>/review/smokehouse.com</td>\n",
       "      <td>14333</td>\n",
       "      <td>4.7</td>\n",
       "      <td>65018</td>\n",
       "      <td>California</td>\n",
       "    </tr>\n",
       "    <tr>\n",
       "      <th>6</th>\n",
       "      <td>Freshly</td>\n",
       "      <td>5872 reviews · TrustScore 4.7</td>\n",
       "      <td>NaN</td>\n",
       "      <td>/review/freshly.com</td>\n",
       "      <td>5872</td>\n",
       "      <td>4.7</td>\n",
       "      <td>NaN</td>\n",
       "      <td>NaN</td>\n",
       "    </tr>\n",
       "    <tr>\n",
       "      <th>7</th>\n",
       "      <td>Popcornopolis</td>\n",
       "      <td>4131 reviews · TrustScore 4.7</td>\n",
       "      <td>90058 Vernon</td>\n",
       "      <td>/review/popcornopolis.com</td>\n",
       "      <td>4131</td>\n",
       "      <td>4.7</td>\n",
       "      <td>90058</td>\n",
       "      <td>Vernon</td>\n",
       "    </tr>\n",
       "    <tr>\n",
       "      <th>8</th>\n",
       "      <td>Cameron's Seafood</td>\n",
       "      <td>2520 reviews · TrustScore 4.7</td>\n",
       "      <td>20850 Rockville</td>\n",
       "      <td>/review/cameronsseafood.com</td>\n",
       "      <td>2520</td>\n",
       "      <td>4.7</td>\n",
       "      <td>20850</td>\n",
       "      <td>Rockville</td>\n",
       "    </tr>\n",
       "    <tr>\n",
       "      <th>9</th>\n",
       "      <td>ReBuilt Meals</td>\n",
       "      <td>204 reviews · TrustScore 4.7</td>\n",
       "      <td>NaN</td>\n",
       "      <td>/review/rebuiltmeals.com</td>\n",
       "      <td>204</td>\n",
       "      <td>4.7</td>\n",
       "      <td>NaN</td>\n",
       "      <td>NaN</td>\n",
       "    </tr>\n",
       "  </tbody>\n",
       "</table>\n",
       "</div>"
      ],
      "text/plain": [
       "                  Restaurant_name          Reviews_and_trustscore  \\\n",
       "0                    Cater Nation    533 reviews · TrustScore 4.9   \n",
       "1  Whidbey Island Seafood Company    300 reviews · TrustScore 4.9   \n",
       "2                         ezCater  13378 reviews · TrustScore 4.8   \n",
       "3                    SimplyOz.com   1390 reviews · TrustScore 4.8   \n",
       "4                     Balkanfresh     74 reviews · TrustScore 4.8   \n",
       "5             Burgers' Smokehouse  14333 reviews · TrustScore 4.7   \n",
       "6                         Freshly   5872 reviews · TrustScore 4.7   \n",
       "7                   Popcornopolis   4131 reviews · TrustScore 4.7   \n",
       "8               Cameron's Seafood   2520 reviews · TrustScore 4.7   \n",
       "9                   ReBuilt Meals    204 reviews · TrustScore 4.7   \n",
       "\n",
       "                 Address                    more_info Reviews Trustscore  \\\n",
       "0       23113 Midlothian      /review/caternation.com     533        4.9   \n",
       "1         98249 Freeland  /review/whidbeyseafoods.com     300        4.9   \n",
       "2           02109 Boston      /review/www.ezcater.com   13378        4.8   \n",
       "3  45040 Cincinnati Ohio         /review/simplyoz.com    1390        4.8   \n",
       "4                    NaN  /review/www.balkanfresh.com      74        4.8   \n",
       "5       65018 California       /review/smokehouse.com   14333        4.7   \n",
       "6                    NaN          /review/freshly.com    5872        4.7   \n",
       "7           90058 Vernon    /review/popcornopolis.com    4131        4.7   \n",
       "8        20850 Rockville  /review/cameronsseafood.com    2520        4.7   \n",
       "9                    NaN     /review/rebuiltmeals.com     204        4.7   \n",
       "\n",
       "  Zip_code             City  \n",
       "0    23113       Midlothian  \n",
       "1    98249         Freeland  \n",
       "2    02109           Boston  \n",
       "3    45040  Cincinnati Ohio  \n",
       "4      NaN              NaN  \n",
       "5    65018       California  \n",
       "6      NaN              NaN  \n",
       "7    90058           Vernon  \n",
       "8    20850        Rockville  \n",
       "9      NaN              NaN  "
      ]
     },
     "execution_count": 12,
     "metadata": {},
     "output_type": "execute_result"
    }
   ],
   "source": [
    "restaurant_data.head(10)"
   ]
  },
  {
   "cell_type": "markdown",
   "metadata": {},
   "source": [
    "So we successfully break down the address field.\n",
    "Now I want to add prefix in more_info column so it will be a complete column. As I said I scrape this data from trustpilot website so I add 'https://trustpilot.com' as prefix with every value of more_info column"
   ]
  },
  {
   "cell_type": "code",
   "execution_count": 13,
   "metadata": {},
   "outputs": [],
   "source": [
    "restaurant_data['Checkout'] = \"https://trustpilot.com\" + restaurant_data['more_info'].astype('str')"
   ]
  },
  {
   "cell_type": "code",
   "execution_count": 14,
   "metadata": {},
   "outputs": [
    {
     "data": {
      "text/html": [
       "<div>\n",
       "<style scoped>\n",
       "    .dataframe tbody tr th:only-of-type {\n",
       "        vertical-align: middle;\n",
       "    }\n",
       "\n",
       "    .dataframe tbody tr th {\n",
       "        vertical-align: top;\n",
       "    }\n",
       "\n",
       "    .dataframe thead th {\n",
       "        text-align: right;\n",
       "    }\n",
       "</style>\n",
       "<table border=\"1\" class=\"dataframe\">\n",
       "  <thead>\n",
       "    <tr style=\"text-align: right;\">\n",
       "      <th></th>\n",
       "      <th>Restaurant_name</th>\n",
       "      <th>Reviews_and_trustscore</th>\n",
       "      <th>Address</th>\n",
       "      <th>more_info</th>\n",
       "      <th>Reviews</th>\n",
       "      <th>Trustscore</th>\n",
       "      <th>Zip_code</th>\n",
       "      <th>City</th>\n",
       "      <th>Checkout</th>\n",
       "    </tr>\n",
       "  </thead>\n",
       "  <tbody>\n",
       "    <tr>\n",
       "      <th>0</th>\n",
       "      <td>Cater Nation</td>\n",
       "      <td>533 reviews · TrustScore 4.9</td>\n",
       "      <td>23113 Midlothian</td>\n",
       "      <td>/review/caternation.com</td>\n",
       "      <td>533</td>\n",
       "      <td>4.9</td>\n",
       "      <td>23113</td>\n",
       "      <td>Midlothian</td>\n",
       "      <td>https://trustpilot.com/review/caternation.com</td>\n",
       "    </tr>\n",
       "    <tr>\n",
       "      <th>1</th>\n",
       "      <td>Whidbey Island Seafood Company</td>\n",
       "      <td>300 reviews · TrustScore 4.9</td>\n",
       "      <td>98249 Freeland</td>\n",
       "      <td>/review/whidbeyseafoods.com</td>\n",
       "      <td>300</td>\n",
       "      <td>4.9</td>\n",
       "      <td>98249</td>\n",
       "      <td>Freeland</td>\n",
       "      <td>https://trustpilot.com/review/whidbeyseafoods.com</td>\n",
       "    </tr>\n",
       "    <tr>\n",
       "      <th>2</th>\n",
       "      <td>ezCater</td>\n",
       "      <td>13378 reviews · TrustScore 4.8</td>\n",
       "      <td>02109 Boston</td>\n",
       "      <td>/review/www.ezcater.com</td>\n",
       "      <td>13378</td>\n",
       "      <td>4.8</td>\n",
       "      <td>02109</td>\n",
       "      <td>Boston</td>\n",
       "      <td>https://trustpilot.com/review/www.ezcater.com</td>\n",
       "    </tr>\n",
       "    <tr>\n",
       "      <th>3</th>\n",
       "      <td>SimplyOz.com</td>\n",
       "      <td>1390 reviews · TrustScore 4.8</td>\n",
       "      <td>45040 Cincinnati Ohio</td>\n",
       "      <td>/review/simplyoz.com</td>\n",
       "      <td>1390</td>\n",
       "      <td>4.8</td>\n",
       "      <td>45040</td>\n",
       "      <td>Cincinnati Ohio</td>\n",
       "      <td>https://trustpilot.com/review/simplyoz.com</td>\n",
       "    </tr>\n",
       "    <tr>\n",
       "      <th>4</th>\n",
       "      <td>Balkanfresh</td>\n",
       "      <td>74 reviews · TrustScore 4.8</td>\n",
       "      <td>NaN</td>\n",
       "      <td>/review/www.balkanfresh.com</td>\n",
       "      <td>74</td>\n",
       "      <td>4.8</td>\n",
       "      <td>NaN</td>\n",
       "      <td>NaN</td>\n",
       "      <td>https://trustpilot.com/review/www.balkanfresh.com</td>\n",
       "    </tr>\n",
       "  </tbody>\n",
       "</table>\n",
       "</div>"
      ],
      "text/plain": [
       "                  Restaurant_name          Reviews_and_trustscore  \\\n",
       "0                    Cater Nation    533 reviews · TrustScore 4.9   \n",
       "1  Whidbey Island Seafood Company    300 reviews · TrustScore 4.9   \n",
       "2                         ezCater  13378 reviews · TrustScore 4.8   \n",
       "3                    SimplyOz.com   1390 reviews · TrustScore 4.8   \n",
       "4                     Balkanfresh     74 reviews · TrustScore 4.8   \n",
       "\n",
       "                 Address                    more_info Reviews Trustscore  \\\n",
       "0       23113 Midlothian      /review/caternation.com     533        4.9   \n",
       "1         98249 Freeland  /review/whidbeyseafoods.com     300        4.9   \n",
       "2           02109 Boston      /review/www.ezcater.com   13378        4.8   \n",
       "3  45040 Cincinnati Ohio         /review/simplyoz.com    1390        4.8   \n",
       "4                    NaN  /review/www.balkanfresh.com      74        4.8   \n",
       "\n",
       "  Zip_code             City                                           Checkout  \n",
       "0    23113       Midlothian      https://trustpilot.com/review/caternation.com  \n",
       "1    98249         Freeland  https://trustpilot.com/review/whidbeyseafoods.com  \n",
       "2    02109           Boston      https://trustpilot.com/review/www.ezcater.com  \n",
       "3    45040  Cincinnati Ohio         https://trustpilot.com/review/simplyoz.com  \n",
       "4      NaN              NaN  https://trustpilot.com/review/www.balkanfresh.com  "
      ]
     },
     "execution_count": 14,
     "metadata": {},
     "output_type": "execute_result"
    }
   ],
   "source": [
    "restaurant_data.head()"
   ]
  },
  {
   "cell_type": "markdown",
   "metadata": {},
   "source": [
    "Congrats! All work done now we have to drop unnecessary columns names Reviews_and_trustscore, Address, and more_info."
   ]
  },
  {
   "cell_type": "code",
   "execution_count": 15,
   "metadata": {},
   "outputs": [],
   "source": [
    "restaurant_data.drop(columns = ['Reviews_and_trustscore', 'Address', 'more_info'], inplace = True)"
   ]
  },
  {
   "cell_type": "code",
   "execution_count": 16,
   "metadata": {
    "scrolled": true
   },
   "outputs": [
    {
     "data": {
      "text/html": [
       "<div>\n",
       "<style scoped>\n",
       "    .dataframe tbody tr th:only-of-type {\n",
       "        vertical-align: middle;\n",
       "    }\n",
       "\n",
       "    .dataframe tbody tr th {\n",
       "        vertical-align: top;\n",
       "    }\n",
       "\n",
       "    .dataframe thead th {\n",
       "        text-align: right;\n",
       "    }\n",
       "</style>\n",
       "<table border=\"1\" class=\"dataframe\">\n",
       "  <thead>\n",
       "    <tr style=\"text-align: right;\">\n",
       "      <th></th>\n",
       "      <th>Restaurant_name</th>\n",
       "      <th>Reviews</th>\n",
       "      <th>Trustscore</th>\n",
       "      <th>Zip_code</th>\n",
       "      <th>City</th>\n",
       "      <th>Checkout</th>\n",
       "    </tr>\n",
       "  </thead>\n",
       "  <tbody>\n",
       "    <tr>\n",
       "      <th>0</th>\n",
       "      <td>Cater Nation</td>\n",
       "      <td>533</td>\n",
       "      <td>4.9</td>\n",
       "      <td>23113</td>\n",
       "      <td>Midlothian</td>\n",
       "      <td>https://trustpilot.com/review/caternation.com</td>\n",
       "    </tr>\n",
       "    <tr>\n",
       "      <th>1</th>\n",
       "      <td>Whidbey Island Seafood Company</td>\n",
       "      <td>300</td>\n",
       "      <td>4.9</td>\n",
       "      <td>98249</td>\n",
       "      <td>Freeland</td>\n",
       "      <td>https://trustpilot.com/review/whidbeyseafoods.com</td>\n",
       "    </tr>\n",
       "    <tr>\n",
       "      <th>2</th>\n",
       "      <td>ezCater</td>\n",
       "      <td>13378</td>\n",
       "      <td>4.8</td>\n",
       "      <td>02109</td>\n",
       "      <td>Boston</td>\n",
       "      <td>https://trustpilot.com/review/www.ezcater.com</td>\n",
       "    </tr>\n",
       "    <tr>\n",
       "      <th>3</th>\n",
       "      <td>SimplyOz.com</td>\n",
       "      <td>1390</td>\n",
       "      <td>4.8</td>\n",
       "      <td>45040</td>\n",
       "      <td>Cincinnati Ohio</td>\n",
       "      <td>https://trustpilot.com/review/simplyoz.com</td>\n",
       "    </tr>\n",
       "    <tr>\n",
       "      <th>4</th>\n",
       "      <td>Balkanfresh</td>\n",
       "      <td>74</td>\n",
       "      <td>4.8</td>\n",
       "      <td>NaN</td>\n",
       "      <td>NaN</td>\n",
       "      <td>https://trustpilot.com/review/www.balkanfresh.com</td>\n",
       "    </tr>\n",
       "  </tbody>\n",
       "</table>\n",
       "</div>"
      ],
      "text/plain": [
       "                  Restaurant_name Reviews Trustscore Zip_code  \\\n",
       "0                    Cater Nation     533        4.9    23113   \n",
       "1  Whidbey Island Seafood Company     300        4.9    98249   \n",
       "2                         ezCater   13378        4.8    02109   \n",
       "3                    SimplyOz.com    1390        4.8    45040   \n",
       "4                     Balkanfresh      74        4.8      NaN   \n",
       "\n",
       "              City                                           Checkout  \n",
       "0       Midlothian      https://trustpilot.com/review/caternation.com  \n",
       "1         Freeland  https://trustpilot.com/review/whidbeyseafoods.com  \n",
       "2           Boston      https://trustpilot.com/review/www.ezcater.com  \n",
       "3  Cincinnati Ohio         https://trustpilot.com/review/simplyoz.com  \n",
       "4              NaN  https://trustpilot.com/review/www.balkanfresh.com  "
      ]
     },
     "execution_count": 16,
     "metadata": {},
     "output_type": "execute_result"
    }
   ],
   "source": [
    "restaurant_data.head()"
   ]
  },
  {
   "cell_type": "markdown",
   "metadata": {},
   "source": [
    "We also need to change the data type of Reviews and Trustscore columns from str to int and float respectively."
   ]
  },
  {
   "cell_type": "code",
   "execution_count": 17,
   "metadata": {},
   "outputs": [],
   "source": [
    "restaurant_data[['Reviews', 'Trustscore']] = restaurant_data[['Reviews', 'Trustscore']].apply(pd.to_numeric)"
   ]
  },
  {
   "cell_type": "markdown",
   "metadata": {},
   "source": [
    "Now it is look like well structured data.\n",
    "#### Here our data wrangling part is complete now we start some cleaning."
   ]
  },
  {
   "cell_type": "code",
   "execution_count": 18,
   "metadata": {},
   "outputs": [
    {
     "data": {
      "text/plain": [
       "Restaurant_name     0\n",
       "Reviews            20\n",
       "Trustscore         20\n",
       "Zip_code           49\n",
       "City               49\n",
       "Checkout            0\n",
       "dtype: int64"
      ]
     },
     "execution_count": 18,
     "metadata": {},
     "output_type": "execute_result"
    }
   ],
   "source": [
    "# look for null values\n",
    "\n",
    "restaurant_data.isnull().sum()"
   ]
  },
  {
   "cell_type": "markdown",
   "metadata": {},
   "source": [
    "So we have some null values. We want to analyze with respect to Reviews and Trustscore column so it is better to drop those rows of both columns that have null values."
   ]
  },
  {
   "cell_type": "code",
   "execution_count": 19,
   "metadata": {},
   "outputs": [],
   "source": [
    "restaurant_data.dropna(subset = ['Reviews', 'Trustscore'], inplace = True)"
   ]
  },
  {
   "cell_type": "code",
   "execution_count": 20,
   "metadata": {},
   "outputs": [
    {
     "data": {
      "text/plain": [
       "Restaurant_name     0\n",
       "Reviews             0\n",
       "Trustscore          0\n",
       "Zip_code           42\n",
       "City               42\n",
       "Checkout            0\n",
       "dtype: int64"
      ]
     },
     "execution_count": 20,
     "metadata": {},
     "output_type": "execute_result"
    }
   ],
   "source": [
    "restaurant_data.isnull().sum()"
   ]
  },
  {
   "cell_type": "markdown",
   "metadata": {},
   "source": [
    "We successfully drop those rows which have null values and belongs to columns names Reviews and Trustscore."
   ]
  },
  {
   "cell_type": "code",
   "execution_count": 21,
   "metadata": {},
   "outputs": [
    {
     "data": {
      "text/plain": [
       "(124,)"
      ]
     },
     "execution_count": 21,
     "metadata": {},
     "output_type": "execute_result"
    }
   ],
   "source": [
    "restaurant_data['Reviews'].shape"
   ]
  },
  {
   "cell_type": "code",
   "execution_count": 28,
   "metadata": {
    "scrolled": true
   },
   "outputs": [
    {
     "data": {
      "text/plain": [
       "(124,)"
      ]
     },
     "execution_count": 28,
     "metadata": {},
     "output_type": "execute_result"
    }
   ],
   "source": [
    "restaurant_data['Trustscore'].shape"
   ]
  },
  {
   "cell_type": "markdown",
   "metadata": {},
   "source": [
    "Now we can export our well structuted and clean file as csv file."
   ]
  },
  {
   "cell_type": "code",
   "execution_count": 29,
   "metadata": {},
   "outputs": [],
   "source": [
    "restaurant_data.to_csv('clean_restaurant_review_data.csv')"
   ]
  },
  {
   "cell_type": "markdown",
   "metadata": {},
   "source": [
    "# The End"
   ]
  }
 ],
 "metadata": {
  "kernelspec": {
   "display_name": "Python 3",
   "language": "python",
   "name": "python3"
  },
  "language_info": {
   "codemirror_mode": {
    "name": "ipython",
    "version": 3
   },
   "file_extension": ".py",
   "mimetype": "text/x-python",
   "name": "python",
   "nbconvert_exporter": "python",
   "pygments_lexer": "ipython3",
   "version": "3.8.3"
  }
 },
 "nbformat": 4,
 "nbformat_minor": 4
}
